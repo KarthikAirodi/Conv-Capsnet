{
 "cells": [
  {
   "cell_type": "code",
   "execution_count": 1,
   "id": "ebcc1978-836e-45f8-a11e-25ae1b4534fa",
   "metadata": {},
   "outputs": [],
   "source": [
    "import tensorflow as tf\n",
    "import numpy as np\n",
    "from keras import models, layers"
   ]
  },
  {
   "cell_type": "code",
   "execution_count": 2,
   "id": "a4490163-3cbb-4373-b543-76cead2c3d6a",
   "metadata": {},
   "outputs": [],
   "source": [
    "# Placeholder for input image\n",
    "X = tf.keras.layers.Input(shape=(150, 150, 1), name=\"X\", dtype=tf.float32)"
   ]
  },
  {
   "cell_type": "code",
   "execution_count": 3,
   "id": "a977a75a-062b-444e-9696-61af235ada8e",
   "metadata": {},
   "outputs": [],
   "source": [
    "# Define the convolutional parameters\n",
    "conv1_parameters = {\n",
    "    \"filters\": 16,\n",
    "    \"kernel_size\": (5, 5),\n",
    "    \"strides\": (1, 1),\n",
    "    \"padding\": \"same\",\n",
    "    \"activation\": tf.nn.relu\n",
    "}\n",
    "conv2_parameters = {\n",
    "    \"filters\": 32,\n",
    "    \"kernel_size\": (5, 5),\n",
    "    \"strides\": (2, 2),\n",
    "    \"padding\": \"same\",\n",
    "    \"activation\": tf.nn.relu\n",
    "}\n",
    "\n",
    "conv3_parameters = {\n",
    "    \"filters\": 64,\n",
    "    \"kernel_size\": (5, 5),\n",
    "    \"strides\": (1, 1),\n",
    "    \"padding\": \"same\",\n",
    "    \"activation\": tf.nn.relu\n",
    "}\n",
    "\n",
    "conv4_parameters = {\n",
    "    \"filters\": 128,\n",
    "    \"kernel_size\": (9, 9),\n",
    "    \"strides\": (1, 1),\n",
    "    \"padding\": \"same\",\n",
    "    \"activation\": tf.nn.relu\n",
    "}\n"
   ]
  },
  {
   "cell_type": "code",
   "execution_count": 4,
   "id": "023c6232-3923-4dc6-a7c7-8ccc41c1046a",
   "metadata": {
    "scrolled": true
   },
   "outputs": [],
   "source": [
    "\n",
    "# Create the four convolutional layers\n",
    "\n",
    "conv1 = layers.Conv2D(name=\"conv1\", **conv1_parameters)(X)\n",
    "conv2 = layers.Conv2D(name=\"conv2\", **conv2_parameters)(conv1)\n",
    "conv3 = layers.Conv2D(name=\"conv3\", **conv3_parameters)(conv2)\n",
    "conv4 = layers.Conv2D(name=\"conv4\", **conv4_parameters)(conv3)\n"
   ]
  },
  {
   "cell_type": "code",
   "execution_count": 11,
   "id": "a6cced6b-02d5-4b27-9621-95f928e756af",
   "metadata": {},
   "outputs": [],
   "source": [
    "def squash(s, epsilon=1e-7, name=None): \n",
    "    with tf.name_scope(name):\n",
    "        squared_norm = tf.reduce_sum(tf.square(s), axis=-1, keepdims=True)\n",
    "        safe_norm = tf.sqrt(squared_norm + epsilon)\n",
    "        squash_factor = squared_norm / (1. + squared_norm)\n",
    "        unit_vector = s / safe_norm\n",
    "        return squash_factor * unit_vector\n"
   ]
  },
  {
   "cell_type": "code",
   "execution_count": 12,
   "id": "4016da24-188a-4166-ace1-0950df37e939",
   "metadata": {},
   "outputs": [],
   "source": [
    "# Primary capsule layer \n",
    "\n",
    "primary_capsule_input = tf.reshape(conv4, [-1, 32, 16], name=\"primary_capsule_input\")\n",
    "primary_capsule_output = squash(primary_capsule_input, name=\"primary_capsule_output\")"
   ]
  },
  {
   "cell_type": "code",
   "execution_count": null,
   "id": "954d783b-abbb-4578-941f-2669127e492d",
   "metadata": {},
   "outputs": [],
   "source": []
  }
 ],
 "metadata": {
  "kernelspec": {
   "display_name": "Python 3 (ipykernel)",
   "language": "python",
   "name": "python3"
  },
  "language_info": {
   "codemirror_mode": {
    "name": "ipython",
    "version": 3
   },
   "file_extension": ".py",
   "mimetype": "text/x-python",
   "name": "python",
   "nbconvert_exporter": "python",
   "pygments_lexer": "ipython3",
   "version": "3.8.0"
  }
 },
 "nbformat": 4,
 "nbformat_minor": 5
}
