{
 "cells": [
  {
   "cell_type": "code",
   "execution_count": 4,
   "id": "d32b2359-ce12-4d32-b672-9dd09108e118",
   "metadata": {},
   "outputs": [
    {
     "name": "stdout",
     "output_type": "stream",
     "text": [
      "compiled code\n"
     ]
    }
   ],
   "source": [
    "import tensorflow as tf\n",
    "from tensorflow.keras import layers, models\n",
    "\n",
    "class ConvolutionalModel(tf.keras.Model):\n",
    "    \n",
    "    def __init__(self, num_classes):\n",
    "        super(ConvolutionalModel, self).__init__()\n",
    "        self.conv_layer1 = layers.Conv2D(16, (5, 5), activation=\"relu\", strides=(1, 1), padding=\"same\", input_shape=(150, 150, 1))\n",
    "        self.pooling = layers.MaxPooling2D((3, 3), strides=(2, 2))\n",
    "        self.conv_layer2 = layers.Conv2D(32, (5, 5), activation=\"relu\", strides=(1, 1), padding=\"same\")\n",
    "        self.conv_layer3 = layers.Conv2D(64, (5, 5), activation=\"relu\", strides=(2, 2/), padding=\"same\")\n",
    "        self.conv_layer4 = layers.Conv2D(128, (9, 9), activation=\"relu\", strides=(2, 2), padding=\"same\")\n",
    "        self.flatten = layers.Flatten()\n",
    "\n",
    "        # output flow : \n",
    "        # 150x150 -> conv1 -> 150x150x16 -> pooling -> 75x75x16 -> conv2 -> 75x75x32 -> conv3 -> 38x38x64 -> conv4 -> 19x19x128\n",
    "        \n",
    "        self.dense = layers.Dense(num_classes, activation=\"softmax\")\n",
    "\n",
    "    def call(self, inputs, training=False): \n",
    "        output_conv_layer1 = self.conv_layer1(inputs)\n",
    "        output_pooling = self.pooling(output_conv_layer1)\n",
    "        output_conv_layer2 = self.conv_layer2(output_pooling)\n",
    "        output_conv_layer3 = self.conv_layer3(output_conv_layer2) \n",
    "        output_conv_layer4 = self.conv_layer4(output_conv_layer3)\n",
    "        output_flatten = self.flatten(output_conv_layer4)\n",
    "        output_dense = self.dense(output_flatten)\n",
    "        return output_dense"
   ]
  },
  {
   "cell_type": "code",
   "execution_count": null,
   "id": "c89c7e57-3e21-46d7-a99b-4c19cf3e00d1",
   "metadata": {},
   "outputs": [],
   "source": []
  }
 ],
 "metadata": {
  "kernelspec": {
   "display_name": "Python 3 (ipykernel)",
   "language": "python",
   "name": "python3"
  },
  "language_info": {
   "codemirror_mode": {
    "name": "ipython",
    "version": 3
   },
   "file_extension": ".py",
   "mimetype": "text/x-python",
   "name": "python",
   "nbconvert_exporter": "python",
   "pygments_lexer": "ipython3",
   "version": "3.8.0"
  }
 },
 "nbformat": 4,
 "nbformat_minor": 5
}
