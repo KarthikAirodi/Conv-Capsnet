{
 "cells": [
  {
   "cell_type": "code",
   "execution_count": 16,
   "id": "ebcc1978-836e-45f8-a11e-25ae1b4534fa",
   "metadata": {},
   "outputs": [],
   "source": [
    "import tensorflow as tf\n",
    "import numpy as np\n",
    "from keras import models, layers"
   ]
  },
  {
   "cell_type": "code",
   "execution_count": 17,
   "id": "a4490163-3cbb-4373-b543-76cead2c3d6a",
   "metadata": {},
   "outputs": [],
   "source": [
    "# Placeholder for input image\n",
    "X = tf.keras.layers.Input(shape=(150, 150, 1), name=\"X\", dtype=tf.float32)"
   ]
  },
  {
   "cell_type": "code",
   "execution_count": 18,
   "id": "a977a75a-062b-444e-9696-61af235ada8e",
   "metadata": {},
   "outputs": [],
   "source": [
    "# Define the convolutional parameters\n",
    "conv1_parameters = {\n",
    "    \"filters\": 16,\n",
    "    \"kernel_size\": (5, 5),\n",
    "    \"strides\": (1, 1),\n",
    "    \"padding\": \"same\",\n",
    "    \"activation\": tf.nn.relu\n",
    "}\n",
    "conv2_parameters = {\n",
    "    \"filters\": 32,\n",
    "    \"kernel_size\": (5, 5),\n",
    "    \"strides\": (2, 2),\n",
    "    \"padding\": \"same\",\n",
    "    \"activation\": tf.nn.relu\n",
    "}\n",
    "\n",
    "conv3_parameters = {\n",
    "    \"filters\": 64,\n",
    "    \"kernel_size\": (5, 5),\n",
    "    \"strides\": (1, 1),\n",
    "    \"padding\": \"same\",\n",
    "    \"activation\": tf.nn.relu\n",
    "}\n",
    "\n",
    "conv4_parameters = {\n",
    "    \"filters\": 128,\n",
    "    \"kernel_size\": (9, 9),\n",
    "    \"strides\": (1, 1),\n",
    "    \"padding\": \"same\",\n",
    "    \"activation\": tf.nn.relu\n",
    "}\n"
   ]
  },
  {
   "cell_type": "code",
   "execution_count": 19,
   "id": "023c6232-3923-4dc6-a7c7-8ccc41c1046a",
   "metadata": {
    "scrolled": true
   },
   "outputs": [],
   "source": [
    "\n",
    "# Create the four convolutional layers\n",
    "\n",
    "conv1 = layers.Conv2D(name=\"conv1\", **conv1_parameters)(X)\n",
    "conv2 = layers.Conv2D(name=\"conv2\", **conv2_parameters)(conv1)\n",
    "conv3 = layers.Conv2D(name=\"conv3\", **conv3_parameters)(conv2)\n",
    "conv4 = layers.Conv2D(name=\"conv4\", **conv4_parameters)(conv3)\n"
   ]
  },
  {
   "cell_type": "code",
   "execution_count": 20,
   "id": "a6cced6b-02d5-4b27-9621-95f928e756af",
   "metadata": {},
   "outputs": [],
   "source": [
    "def squash(s, epsilon=1e-7, name=None): \n",
    "    with tf.name_scope(name):\n",
    "        squared_norm = tf.reduce_sum(tf.square(s), axis=-1, keepdims=True)\n",
    "        safe_norm = tf.sqrt(squared_norm + epsilon)\n",
    "        squash_factor = squared_norm / (1. + squared_norm)\n",
    "        unit_vector = s / safe_norm\n",
    "        return squash_factor * unit_vector\n"
   ]
  },
  {
   "cell_type": "code",
   "execution_count": 21,
   "id": "4016da24-188a-4166-ace1-0950df37e939",
   "metadata": {},
   "outputs": [],
   "source": [
    "# Primary capsule layer \n",
    "\n",
    "primary_capsule_input = tf.reshape(conv4, [-1, 1152 , 8], name=\"primary_capsule_input\")\n",
    "primary_capsule_output = squash(primary_capsule_input, name=\"primary_capsule_output\")"
   ]
  },
  {
   "cell_type": "code",
   "execution_count": 28,
   "id": "954d783b-abbb-4578-941f-2669127e492d",
   "metadata": {
    "scrolled": true
   },
   "outputs": [
    {
     "name": "stdout",
     "output_type": "stream",
     "text": [
      "WARNING:tensorflow:The following Variables were used in a Lambda layer's call (tf.tile), but are not present in its tracked objects:   <tf.Variable 'W:0' shape=(1, 1152, 3, 16, 8) dtype=float32>. This is a strong indication that the Lambda layer should be rewritten as a subclassed Layer.\n"
     ]
    }
   ],
   "source": [
    "# Secondary Capsule layer \n",
    "\n",
    "# Initializing weight matrix \n",
    "\n",
    "W_init = tf.random.normal(shape=(1, 1152, 3, 16, 8), stddev=0.1, name=\"W_init\", dtype=tf.float32)\n",
    "W = tf.Variable(W_init, name=\"W\")\n",
    "\n",
    "# Tile the weight matrix \n",
    "\n",
    "W_tiled = tf.tile(W, [tf.shape(X)[0], 1, 1, 1, 1], name=\"W_tiled\")"
   ]
  },
  {
   "cell_type": "code",
   "execution_count": 42,
   "id": "155aa679-cd11-404c-becd-71ebc366f3a7",
   "metadata": {},
   "outputs": [],
   "source": [
    "# Expand output of primary capsule (batchsize x 1152 x 8) to (batchsize x 1152 x 10 x 8 x 1) \n",
    "\n",
    "primary_capsule_output_expanded = tf.expand_dims(primary_capsule_output, -1, name=\"primar_capsule_output_expanded\")\n",
    "primary_capsule_output_tile = tf.expand_dims(primary_capsule_output_expanded, 2, name=\"primary_capsule_output_tile\")\n",
    "primary_capsule_output_tiled = tf.tile(primary_capsule_output_tile, [1, 1, 3, 1, 1], name=\"primary_capsule_output_tiled\")"
   ]
  },
  {
   "cell_type": "code",
   "execution_count": 43,
   "id": "da42082e-b579-4523-bd9c-7ab5c8c64910",
   "metadata": {},
   "outputs": [],
   "source": [
    "# Secondary Capsule Prediction Vector uj|i = Wij * uij for all i, j \n",
    "\n",
    "secondary_capsule_predicted = tf.matmul(W_tiled, primary_capsule_output_tiled, name=\"secondary_capsule_prediction\")"
   ]
  },
  {
   "cell_type": "code",
   "execution_count": 44,
   "id": "a26c9724-8435-46fa-9331-befae338e4a3",
   "metadata": {},
   "outputs": [
    {
     "data": {
      "text/plain": [
       "<KerasTensor: shape=(None, 1152, 3, 16, 1) dtype=float32 (created by layer 'tf.linalg.matmul_3')>"
      ]
     },
     "execution_count": 44,
     "metadata": {},
     "output_type": "execute_result"
    }
   ],
   "source": [
    "secondary_capsule_predicted"
   ]
  },
  {
   "cell_type": "code",
   "execution_count": null,
   "id": "b04d84d3-dc66-499b-ac60-583cf2baee2a",
   "metadata": {},
   "outputs": [],
   "source": []
  }
 ],
 "metadata": {
  "kernelspec": {
   "display_name": "Python 3 (ipykernel)",
   "language": "python",
   "name": "python3"
  },
  "language_info": {
   "codemirror_mode": {
    "name": "ipython",
    "version": 3
   },
   "file_extension": ".py",
   "mimetype": "text/x-python",
   "name": "python",
   "nbconvert_exporter": "python",
   "pygments_lexer": "ipython3",
   "version": "3.8.0"
  }
 },
 "nbformat": 4,
 "nbformat_minor": 5
}
