{
 "cells": [
  {
   "cell_type": "code",
   "execution_count": null,
   "id": "d32b2359-ce12-4d32-b672-9dd09108e118",
   "metadata": {},
   "outputs": [],
   "source": [
    "import tensorflow as tf\n",
    "from tensorflow.keras import layers, models\n",
    "\n",
    "class ConvolutionalModel(tf.keras.Model):\n",
    "    \n",
    "    def __init__(self, num_classes):\n",
    "        super(ConvolutionalModel, self).__init__()\n",
    "        self.conv1 = layers.Conv2D(16, (5, 5), strides=(1, 1), padding=\"same\", input_shape=(150, 150, 1))\n",
    "        self.relu1 = layers.Activation('relu')\n",
    "        self.maxpool1 = layers.MaxPooling2D((3, 3), strides=(2,2))\n",
    "\n",
    "        self.conv2 = layers.Conv2D(16, (5, 5), strides=(1, 1), padding=\"same\")\n",
    "        self.relu2 = layers.Activation('relu')\n",
    "        self.maxpool2 = layers.MaxPooling2D((3, 3))\n",
    "        \n",
    "        self.conv3 = layers.Conv2D(16, (5, 5), strides=(1, 1), padding=\"same\")\n",
    "        self.relu3 = layers.Activation('relu')\n",
    "        self.maxpool3 = layers.MaxPooling2D((3, 3))\n",
    "\n",
    "        self.conv4 = layers.Conv2D(16, (9, 9), strides=(1, 1), padding=\"same\")\n",
    "        self.relu4 = layers.Activation('relu')\n",
    "        self.maxpool4 = layers.MaxPooling2D((3, 3))\n",
    "        \n",
    "        self.flatten = layers.Flatten()\n",
    "        self.dense = layers.Dense(num_classes, activation=\"softmax\")\n",
    "\n",
    "    def call(self, inputs, training=False): \n",
    "        output_conv1 = self.conv1(inputs)\n",
    "        output_relu1 = self.relu1(output_conv1)\n",
    "        output_maxpool1 = self.maxpool1(output_relu1)\n",
    "\n",
    "        output_conv2 = self.conv2(output_maxpool1)\n",
    "        output_relu2 = self.relu2(output_conv2)\n",
    "        output_maxpool2 = self.maxpool2(output_relu2)\n",
    "\n",
    "        output_conv3 = self.conv3(output_maxpool2)\n",
    "        output_relu3 = self.relu3(output_conv3)\n",
    "        output_maxpool3 = self.maxpool3(output_relu3)\n",
    "        \n",
    "        output_conv4 = self.conv4(output_maxpool3)\n",
    "        output_relu4 = self.relu4(output_conv4)\n",
    "        output_maxpool4 = self.maxpool4(output_relu4)\n",
    "        \n",
    "        output_flatten = self.flatten(output_maxpool4)\n",
    "        output_dense = self.dense(output_flatten)\n",
    "        return output_dense\n"
   ]
  },
  {
   "cell_type": "code",
   "execution_count": null,
   "id": "c89c7e57-3e21-46d7-a99b-4c19cf3e00d1",
   "metadata": {},
   "outputs": [],
   "source": []
  },
  {
   "cell_type": "code",
   "execution_count": null,
   "id": "ebcc1978-836e-45f8-a11e-25ae1b4534fa",
   "metadata": {},
   "outputs": [],
   "source": []
  }
 ],
 "metadata": {
  "kernelspec": {
   "display_name": "Python 3 (ipykernel)",
   "language": "python",
   "name": "python3"
  },
  "language_info": {
   "codemirror_mode": {
    "name": "ipython",
    "version": 3
   },
   "file_extension": ".py",
   "mimetype": "text/x-python",
   "name": "python",
   "nbconvert_exporter": "python",
   "pygments_lexer": "ipython3",
   "version": "3.8.0"
  }
 },
 "nbformat": 4,
 "nbformat_minor": 5
}
