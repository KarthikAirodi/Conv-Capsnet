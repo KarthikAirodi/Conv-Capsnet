{
 "cells": [
  {
   "cell_type": "code",
   "execution_count": 3,
   "id": "d32b2359-ce12-4d32-b672-9dd09108e118",
   "metadata": {},
   "outputs": [
    {
     "ename": "SyntaxError",
     "evalue": "invalid syntax (934121996.py, line 7)",
     "output_type": "error",
     "traceback": [
      "\u001b[1;36m  Cell \u001b[1;32mIn[3], line 7\u001b[1;36m\u001b[0m\n\u001b[1;33m    self.conv_layer1 = layers.Conv2D(, (x, x), activation=\"relu\", strides=(), padding=\"same\", input_shape=(150, 150, 1))\u001b[0m\n\u001b[1;37m                                     ^\u001b[0m\n\u001b[1;31mSyntaxError\u001b[0m\u001b[1;31m:\u001b[0m invalid syntax\n"
     ]
    }
   ],
   "source": [
    "import tensorflow as tf \n",
    "from tensorflow.keras import layers, models\n",
    "\n",
    "class ConvolutionalModel(tf.keras.Models):\n",
    "    def __init__(self, num_classes):\n",
    "        super(ConvolutionModel, self).__init__()\n",
    "        self.conv_layer1 = layers.Conv2D(, (x, x), activation=\"relu\", strides=(), padding=\"same\", input_shape=(150, 150, 1))\n",
    "        self.pooling = layers.MaxPooling2D((x, x), strides=(x,x))\n",
    "        self.conv_layer2 = layers.Conv2D(, (x, x), activation=\"relu\", strides=(), padding=\"same\")\n",
    "        self.conv_layer3 = layers.conv2D(, (x, x), activation=\"relu\", strides=(), padding=\"same\")\n",
    "        self.conv_layer4 = layers.conv2d(, (x, x), activation=\"relu\", strides=(), padding=\"same\")\n",
    "        self.flatten = layers.Flatten()\n",
    "        self.dense = layers.dense(num_classes activation=\"softmax\")\n",
    "\n",
    "    def call(self, input, Training=False): \n",
    "        op = self.conv_layer1(input)\n",
    "        op = self.pooling(op)\n",
    "        op = self.conv_layer2(op)\n",
    "        op = self.conv_layer3(op) \n",
    "        op = self.conv_layer4(op)\n",
    "        op = flatten(op)\n",
    "        op = dense(op)\n",
    "        return op\n",
    "        \n",
    "        \n",
    "    "
   ]
  },
  {
   "cell_type": "code",
   "execution_count": null,
   "id": "5552ad99-5e1a-4619-ba58-6909ce82f400",
   "metadata": {},
   "outputs": [],
   "source": []
  }
 ],
 "metadata": {
  "kernelspec": {
   "display_name": "Python 3 (ipykernel)",
   "language": "python",
   "name": "python3"
  },
  "language_info": {
   "codemirror_mode": {
    "name": "ipython",
    "version": 3
   },
   "file_extension": ".py",
   "mimetype": "text/x-python",
   "name": "python",
   "nbconvert_exporter": "python",
   "pygments_lexer": "ipython3",
   "version": "3.12.0"
  }
 },
 "nbformat": 4,
 "nbformat_minor": 5
}
